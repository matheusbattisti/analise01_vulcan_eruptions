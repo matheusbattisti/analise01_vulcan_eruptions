{
 "cells": [
  {
   "cell_type": "markdown",
   "metadata": {},
   "source": [
    "## Analisando as características de vulcões que entraram em erupção\n",
    "\n",
    "Esta análise tem intuito de desvendar algumas curiosidades sobre estes vulcões que provavelmente entraram em erupção e padrões dos mesmos afim de verificar, por exemplo, se algum tipo de vulcão predomina em alguma região,\n",
    "\n",
    "mudar -- porém a análise principal é sobre os 3  tipos principais de vulcão, que características são mais determinantes de cada um,\n",
    "\n",
    "Curiosidade: os 3 tipos mais frequentes são: vulcão-escudo, cones de escória, estratovulcões, porém deste dataset ainda iremos descobrir. :)\n",
    "\n",
    "![title](img/volcano1.jpg)\n",
    "\n",
    "### Sobre o dataset:\n",
    "\n",
    "Este conjunto de dados contem aproximadamente 1400 vulcões que entraram em erupção desde o período Holoceno (aproximadamente 10.000 anos atrás).\n",
    "\n",
    "O dataset contem 13 colunas, e elas são:\n",
    "\n",
    "- Volcano Number: número cadastrado do vulcão, podemos dizer que é o id;\n",
    "- Volcano Name: nome do vulcão;\n",
    "- Country: país onde o vulcão está;\n",
    "- Primary Volcano Type: tipo primário do vulcão, os 3 tipos mais comun são vulcão-escudo, cones de escória, estratovulcões. Saiba mais sobre eles aqui. (obs: não sabia que vulcões eram tão legais)\n",
    "- Activity Evidence: evidências que o vulcão esteve em atividade;\n",
    "- Last Know Eruption: ano da última erupção que se tem conhecimento, detalhe que CE significa Common Era, o ano 1 em CE é o mesmo que o ano 1 em DC (Depois de Cristo), e BCE (Before Common Era)  corresponde ao AC (Antes de Cristo);\n",
    "- Region: região onde o vulcão se encontra;\n",
    "- Subregion: sub-região onde o vulcão se encontra;\n",
    "- Latitude: latitude do vulcão;\n",
    "- Longitude: longitude do vulcão;\n",
    "- Elevation (m): elevação em metros do vulcão em relação ao nível do mar;\n",
    "- Dominant Rock Type: tipo de rocha dominante no vulcão;\n",
    "- Tectonic Setting: cenário tectônico;\n",
    "\n",
    "## As perguntas que iremos responder são:\n",
    "\n",
    "1 - Quais os 5 países com mais vulcões?\n",
    "\n",
    "2 - Qual a região com mais vulcões e a que tem menos?\n",
    "\n",
    "3 - Qual o tipo de vulcão que aparece mais vezes?\n",
    "\n",
    "4 - Quais os tipos de rochas mais predominantes?\n",
    "\n",
    "5 - Quais os vulcões mais altos?\n",
    "\n",
    "#### E por fim a análise final:\n",
    "\n",
    "Vamos descobrir as características dos vulcões que estão presentes na América do Sul\n"
   ]
  },
  {
   "cell_type": "code",
   "execution_count": 6,
   "metadata": {
    "scrolled": true
   },
   "outputs": [
    {
     "data": {
      "text/html": [
       "<div>\n",
       "<style scoped>\n",
       "    .dataframe tbody tr th:only-of-type {\n",
       "        vertical-align: middle;\n",
       "    }\n",
       "\n",
       "    .dataframe tbody tr th {\n",
       "        vertical-align: top;\n",
       "    }\n",
       "\n",
       "    .dataframe thead th {\n",
       "        text-align: right;\n",
       "    }\n",
       "</style>\n",
       "<table border=\"1\" class=\"dataframe\">\n",
       "  <thead>\n",
       "    <tr style=\"text-align: right;\">\n",
       "      <th></th>\n",
       "      <th>Volcano Number</th>\n",
       "      <th>Volcano Name</th>\n",
       "      <th>Country</th>\n",
       "      <th>Primary Volcano Type</th>\n",
       "      <th>Activity Evidence</th>\n",
       "      <th>Last Known Eruption</th>\n",
       "      <th>Region</th>\n",
       "      <th>Subregion</th>\n",
       "      <th>Latitude</th>\n",
       "      <th>Longitude</th>\n",
       "      <th>Elevation (m)</th>\n",
       "      <th>Dominant Rock Type</th>\n",
       "      <th>Tectonic Setting</th>\n",
       "    </tr>\n",
       "  </thead>\n",
       "  <tbody>\n",
       "    <tr>\n",
       "      <th>0</th>\n",
       "      <td>210010</td>\n",
       "      <td>West Eifel Volcanic Field</td>\n",
       "      <td>Germany</td>\n",
       "      <td>Maar(s)</td>\n",
       "      <td>Eruption Dated</td>\n",
       "      <td>8300 BCE</td>\n",
       "      <td>Mediterranean and Western Asia</td>\n",
       "      <td>Western Europe</td>\n",
       "      <td>50.170</td>\n",
       "      <td>6.85</td>\n",
       "      <td>600</td>\n",
       "      <td>Foidite</td>\n",
       "      <td>Rift zone / Continental crust (&gt;25 km)</td>\n",
       "    </tr>\n",
       "    <tr>\n",
       "      <th>1</th>\n",
       "      <td>210020</td>\n",
       "      <td>Chaine des Puys</td>\n",
       "      <td>France</td>\n",
       "      <td>Lava dome(s)</td>\n",
       "      <td>Eruption Dated</td>\n",
       "      <td>4040 BCE</td>\n",
       "      <td>Mediterranean and Western Asia</td>\n",
       "      <td>Western Europe</td>\n",
       "      <td>45.775</td>\n",
       "      <td>2.97</td>\n",
       "      <td>1464</td>\n",
       "      <td>Basalt / Picro-Basalt</td>\n",
       "      <td>Rift zone / Continental crust (&gt;25 km)</td>\n",
       "    </tr>\n",
       "    <tr>\n",
       "      <th>2</th>\n",
       "      <td>210030</td>\n",
       "      <td>Olot Volcanic Field</td>\n",
       "      <td>Spain</td>\n",
       "      <td>Pyroclastic cone(s)</td>\n",
       "      <td>Evidence Credible</td>\n",
       "      <td>Unknown</td>\n",
       "      <td>Mediterranean and Western Asia</td>\n",
       "      <td>Western Europe</td>\n",
       "      <td>42.170</td>\n",
       "      <td>2.53</td>\n",
       "      <td>893</td>\n",
       "      <td>Trachybasalt / Tephrite Basanite</td>\n",
       "      <td>Intraplate / Continental crust (&gt;25 km)</td>\n",
       "    </tr>\n",
       "    <tr>\n",
       "      <th>3</th>\n",
       "      <td>210040</td>\n",
       "      <td>Calatrava Volcanic Field</td>\n",
       "      <td>Spain</td>\n",
       "      <td>Pyroclastic cone(s)</td>\n",
       "      <td>Eruption Dated</td>\n",
       "      <td>3600 BCE</td>\n",
       "      <td>Mediterranean and Western Asia</td>\n",
       "      <td>Western Europe</td>\n",
       "      <td>38.870</td>\n",
       "      <td>-4.02</td>\n",
       "      <td>1117</td>\n",
       "      <td>Basalt / Picro-Basalt</td>\n",
       "      <td>Intraplate / Continental crust (&gt;25 km)</td>\n",
       "    </tr>\n",
       "    <tr>\n",
       "      <th>4</th>\n",
       "      <td>211001</td>\n",
       "      <td>Larderello</td>\n",
       "      <td>Italy</td>\n",
       "      <td>Explosion crater(s)</td>\n",
       "      <td>Eruption Observed</td>\n",
       "      <td>1282 CE</td>\n",
       "      <td>Mediterranean and Western Asia</td>\n",
       "      <td>Italy</td>\n",
       "      <td>43.250</td>\n",
       "      <td>10.87</td>\n",
       "      <td>500</td>\n",
       "      <td>No Data (checked)</td>\n",
       "      <td>Subduction zone / Continental crust (&gt;25 km)</td>\n",
       "    </tr>\n",
       "  </tbody>\n",
       "</table>\n",
       "</div>"
      ],
      "text/plain": [
       "   Volcano Number               Volcano Name  Country Primary Volcano Type  \\\n",
       "0          210010  West Eifel Volcanic Field  Germany              Maar(s)   \n",
       "1          210020            Chaine des Puys   France         Lava dome(s)   \n",
       "2          210030        Olot Volcanic Field    Spain  Pyroclastic cone(s)   \n",
       "3          210040   Calatrava Volcanic Field    Spain  Pyroclastic cone(s)   \n",
       "4          211001                 Larderello    Italy  Explosion crater(s)   \n",
       "\n",
       "   Activity Evidence Last Known Eruption                          Region  \\\n",
       "0     Eruption Dated            8300 BCE  Mediterranean and Western Asia   \n",
       "1     Eruption Dated            4040 BCE  Mediterranean and Western Asia   \n",
       "2  Evidence Credible             Unknown  Mediterranean and Western Asia   \n",
       "3     Eruption Dated            3600 BCE  Mediterranean and Western Asia   \n",
       "4  Eruption Observed             1282 CE  Mediterranean and Western Asia   \n",
       "\n",
       "        Subregion  Latitude  Longitude  Elevation (m)  \\\n",
       "0  Western Europe    50.170       6.85            600   \n",
       "1  Western Europe    45.775       2.97           1464   \n",
       "2  Western Europe    42.170       2.53            893   \n",
       "3  Western Europe    38.870      -4.02           1117   \n",
       "4           Italy    43.250      10.87            500   \n",
       "\n",
       "                 Dominant Rock Type  \\\n",
       "0                           Foidite   \n",
       "1             Basalt / Picro-Basalt   \n",
       "2  Trachybasalt / Tephrite Basanite   \n",
       "3             Basalt / Picro-Basalt   \n",
       "4                 No Data (checked)   \n",
       "\n",
       "                               Tectonic Setting  \n",
       "0        Rift zone / Continental crust (>25 km)  \n",
       "1        Rift zone / Continental crust (>25 km)  \n",
       "2       Intraplate / Continental crust (>25 km)  \n",
       "3       Intraplate / Continental crust (>25 km)  \n",
       "4  Subduction zone / Continental crust (>25 km)  "
      ]
     },
     "execution_count": 6,
     "metadata": {},
     "output_type": "execute_result"
    }
   ],
   "source": [
    "# Importando bibliotecas\n",
    "# Vamos importar as libs que pretendemos usar ao longo do projeto\n",
    "import pandas as pd\n",
    "import math\n",
    "import numpy as np\n",
    "import random\n",
    "import matplotlib.pyplot as plt\n",
    "import seaborn as sns\n",
    "\n",
    "%matplotlib inline\n",
    "\n",
    "# Lendo arquivo de dados de vulcões\n",
    "df = pd.read_csv('Volcano-Eruptions.csv')\n",
    "\n",
    "# Testando se a importação ocorreu bem\n",
    "df.head()"
   ]
  },
  {
   "cell_type": "markdown",
   "metadata": {},
   "source": [
    "## Funções helper:\n",
    "\n",
    "Aqui vamos colocar as funções que usaremos durante a análise, isso organiza e não polui a mesma"
   ]
  },
  {
   "cell_type": "code",
   "execution_count": 7,
   "metadata": {},
   "outputs": [],
   "source": [
    "# Função que faz o pie chart (gráfico de pizza) mostrar os valores e a porcentagem\n",
    "def make_autopct(values):\n",
    "    def my_autopct(pct):\n",
    "        total = sum(values)\n",
    "        val = int(round(pct*total/100.0))\n",
    "        return '{p:.0f}%  ({v:d})'.format(p=pct,v=val)\n",
    "    return my_autopct"
   ]
  },
  {
   "cell_type": "markdown",
   "metadata": {},
   "source": [
    "## Paleta de Cores:\n",
    "\n",
    "Paleta de cores que será usada no dataset"
   ]
  },
  {
   "cell_type": "code",
   "execution_count": 8,
   "metadata": {},
   "outputs": [],
   "source": [
    "# Estas cores combinam com vulcões 8-)\n",
    "colors=['#6c1003','#8f4444', '#a91a05', '#ff8d5c', '#a25a3b']"
   ]
  },
  {
   "cell_type": "markdown",
   "metadata": {},
   "source": [
    "![title](img/volcano4.jpg)"
   ]
  },
  {
   "cell_type": "markdown",
   "metadata": {},
   "source": [
    "# Limpeza de dados\n",
    "\n",
    "Nesta etapa verificar quais colunas apresentam dados faltantes e decidir o que fazer fazer com elas\n",
    "\n",
    "Usaremos agora um método que identifica quais colunas possuem dados vazios, e quantos são:"
   ]
  },
  {
   "cell_type": "code",
   "execution_count": 9,
   "metadata": {},
   "outputs": [
    {
     "name": "stdout",
     "output_type": "stream",
     "text": [
      "<class 'pandas.core.frame.DataFrame'>\n",
      "RangeIndex: 1436 entries, 0 to 1435\n",
      "Data columns (total 13 columns):\n",
      "Volcano Number          1436 non-null int64\n",
      "Volcano Name            1436 non-null object\n",
      "Country                 1436 non-null object\n",
      "Primary Volcano Type    1436 non-null object\n",
      "Activity Evidence       1436 non-null object\n",
      "Last Known Eruption     1436 non-null object\n",
      "Region                  1436 non-null object\n",
      "Subregion               1436 non-null object\n",
      "Latitude                1436 non-null float64\n",
      "Longitude               1436 non-null float64\n",
      "Elevation (m)           1436 non-null int64\n",
      "Dominant Rock Type      1422 non-null object\n",
      "Tectonic Setting        1431 non-null object\n",
      "dtypes: float64(2), int64(2), object(9)\n",
      "memory usage: 145.9+ KB\n"
     ]
    }
   ],
   "source": [
    "df.info()"
   ]
  },
  {
   "cell_type": "markdown",
   "metadata": {},
   "source": [
    "## Explorando o conjunto de dados:\n",
    "\n",
    "O dataset contem 1436 registros, 13 colunas e os tipos de dados são:\n",
    "- int\n",
    "- float\n",
    "- string\n",
    "\n",
    "Note que para aqui o tipo object representa o conhecido string\n",
    "\n",
    "Agora que conhecemos melhor nosso dataset, vamos ver quais colunas contem dados vazios"
   ]
  },
  {
   "cell_type": "code",
   "execution_count": 10,
   "metadata": {},
   "outputs": [
    {
     "data": {
      "text/plain": [
       "Volcano Number           0\n",
       "Volcano Name             0\n",
       "Country                  0\n",
       "Primary Volcano Type     0\n",
       "Activity Evidence        0\n",
       "Last Known Eruption      0\n",
       "Region                   0\n",
       "Subregion                0\n",
       "Latitude                 0\n",
       "Longitude                0\n",
       "Elevation (m)            0\n",
       "Dominant Rock Type      14\n",
       "Tectonic Setting         5\n",
       "dtype: int64"
      ]
     },
     "execution_count": 10,
     "metadata": {},
     "output_type": "execute_result"
    }
   ],
   "source": [
    "df.isnull().sum()"
   ]
  },
  {
   "cell_type": "markdown",
   "metadata": {},
   "source": [
    "## Os dados faltantes\n",
    "\n",
    "As colunas com dados vazios são:\n",
    "\n",
    "- Dominant Rock Type\n",
    "- Tectonic Setting\n",
    "\n",
    "Vamos verificar o tipo dos dados, pois com essa informação poderemos tomar melhor nossa decisão"
   ]
  },
  {
   "cell_type": "code",
   "execution_count": 11,
   "metadata": {},
   "outputs": [
    {
     "name": "stdout",
     "output_type": "stream",
     "text": [
      "O tipo da coluna 'Dominant Rock Type' é object e o tipo de Tectonic Setting é object\n"
     ]
    }
   ],
   "source": [
    "rocktype     = df['Dominant Rock Type'].dtype\n",
    "tectonictype = df['Tectonic Setting'].dtype\n",
    "\n",
    "print(\"O tipo da coluna 'Dominant Rock Type' é {} e o tipo de Tectonic Setting é {}\".format(rocktype,tectonictype))"
   ]
  },
  {
   "cell_type": "markdown",
   "metadata": {},
   "source": [
    "## Definindo o que faremos:\n",
    "\n",
    "Aqui cabe uma importante observação, colunas com o tipo 'object' no pandas são equivalentes a strings, ou seja, texto\n",
    "\n",
    "Como strings são dados importantes, meu julgamento é que devemos remover estas linhas faltantes para não comprometer a integridade dos dados\n",
    "\n",
    "Acho errado 'inventarmos' um valor para preencher estas linhas apenas para usar o dataset completo\n",
    "\n",
    "Porém caso fosse uma coluna numérica, poderiamos até tirar a média e completar os valores faltantes com ela, mas neste caso específico minha decisão é de remover estas colunas"
   ]
  },
  {
   "cell_type": "code",
   "execution_count": 12,
   "metadata": {},
   "outputs": [],
   "source": [
    "# Removando da coluna Dominant\n",
    "df.dropna(subset=['Dominant Rock Type'], inplace=True)\n",
    "\n",
    "# Removendo da coluna Tectonic Setting\n",
    "df.dropna(subset=['Tectonic Setting'], inplace=True)"
   ]
  },
  {
   "cell_type": "markdown",
   "metadata": {},
   "source": [
    "## Estratovulcões e Pyroclastic cone:\n",
    "\n",
    "Temos mais um problema, na coluna de tipos de vulcões temos a presença de 'Stratovolcano' e 'Stratovolcano(es)', que seria o plural,\n",
    "\n",
    "O mesmo acontec com Pyroclastic cone,\n",
    "\n",
    "Assim vamos categorizar este tipo como 'Stratovulcano', facilitando nossa análise"
   ]
  },
  {
   "cell_type": "code",
   "execution_count": 13,
   "metadata": {},
   "outputs": [
    {
     "data": {
      "text/html": [
       "<div>\n",
       "<style scoped>\n",
       "    .dataframe tbody tr th:only-of-type {\n",
       "        vertical-align: middle;\n",
       "    }\n",
       "\n",
       "    .dataframe tbody tr th {\n",
       "        vertical-align: top;\n",
       "    }\n",
       "\n",
       "    .dataframe thead th {\n",
       "        text-align: right;\n",
       "    }\n",
       "</style>\n",
       "<table border=\"1\" class=\"dataframe\">\n",
       "  <thead>\n",
       "    <tr style=\"text-align: right;\">\n",
       "      <th></th>\n",
       "      <th>Volcano Number</th>\n",
       "      <th>Volcano Name</th>\n",
       "      <th>Country</th>\n",
       "      <th>Primary Volcano Type</th>\n",
       "      <th>Activity Evidence</th>\n",
       "      <th>Last Known Eruption</th>\n",
       "      <th>Region</th>\n",
       "      <th>Subregion</th>\n",
       "      <th>Latitude</th>\n",
       "      <th>Longitude</th>\n",
       "      <th>Elevation (m)</th>\n",
       "      <th>Dominant Rock Type</th>\n",
       "      <th>Tectonic Setting</th>\n",
       "    </tr>\n",
       "  </thead>\n",
       "  <tbody>\n",
       "    <tr>\n",
       "      <th>0</th>\n",
       "      <td>210010</td>\n",
       "      <td>West Eifel Volcanic Field</td>\n",
       "      <td>Germany</td>\n",
       "      <td>Maar(s)</td>\n",
       "      <td>Eruption Dated</td>\n",
       "      <td>8300 BCE</td>\n",
       "      <td>Mediterranean and Western Asia</td>\n",
       "      <td>Western Europe</td>\n",
       "      <td>50.170</td>\n",
       "      <td>6.85</td>\n",
       "      <td>600</td>\n",
       "      <td>Foidite</td>\n",
       "      <td>Rift zone / Continental crust (&gt;25 km)</td>\n",
       "    </tr>\n",
       "    <tr>\n",
       "      <th>1</th>\n",
       "      <td>210020</td>\n",
       "      <td>Chaine des Puys</td>\n",
       "      <td>France</td>\n",
       "      <td>Lava dome(s)</td>\n",
       "      <td>Eruption Dated</td>\n",
       "      <td>4040 BCE</td>\n",
       "      <td>Mediterranean and Western Asia</td>\n",
       "      <td>Western Europe</td>\n",
       "      <td>45.775</td>\n",
       "      <td>2.97</td>\n",
       "      <td>1464</td>\n",
       "      <td>Basalt / Picro-Basalt</td>\n",
       "      <td>Rift zone / Continental crust (&gt;25 km)</td>\n",
       "    </tr>\n",
       "    <tr>\n",
       "      <th>2</th>\n",
       "      <td>210030</td>\n",
       "      <td>Olot Volcanic Field</td>\n",
       "      <td>Spain</td>\n",
       "      <td>Pyroclastic cone</td>\n",
       "      <td>Evidence Credible</td>\n",
       "      <td>Unknown</td>\n",
       "      <td>Mediterranean and Western Asia</td>\n",
       "      <td>Western Europe</td>\n",
       "      <td>42.170</td>\n",
       "      <td>2.53</td>\n",
       "      <td>893</td>\n",
       "      <td>Trachybasalt / Tephrite Basanite</td>\n",
       "      <td>Intraplate / Continental crust (&gt;25 km)</td>\n",
       "    </tr>\n",
       "    <tr>\n",
       "      <th>3</th>\n",
       "      <td>210040</td>\n",
       "      <td>Calatrava Volcanic Field</td>\n",
       "      <td>Spain</td>\n",
       "      <td>Pyroclastic cone</td>\n",
       "      <td>Eruption Dated</td>\n",
       "      <td>3600 BCE</td>\n",
       "      <td>Mediterranean and Western Asia</td>\n",
       "      <td>Western Europe</td>\n",
       "      <td>38.870</td>\n",
       "      <td>-4.02</td>\n",
       "      <td>1117</td>\n",
       "      <td>Basalt / Picro-Basalt</td>\n",
       "      <td>Intraplate / Continental crust (&gt;25 km)</td>\n",
       "    </tr>\n",
       "    <tr>\n",
       "      <th>4</th>\n",
       "      <td>211001</td>\n",
       "      <td>Larderello</td>\n",
       "      <td>Italy</td>\n",
       "      <td>Explosion crater(s)</td>\n",
       "      <td>Eruption Observed</td>\n",
       "      <td>1282 CE</td>\n",
       "      <td>Mediterranean and Western Asia</td>\n",
       "      <td>Italy</td>\n",
       "      <td>43.250</td>\n",
       "      <td>10.87</td>\n",
       "      <td>500</td>\n",
       "      <td>No Data (checked)</td>\n",
       "      <td>Subduction zone / Continental crust (&gt;25 km)</td>\n",
       "    </tr>\n",
       "  </tbody>\n",
       "</table>\n",
       "</div>"
      ],
      "text/plain": [
       "   Volcano Number               Volcano Name  Country Primary Volcano Type  \\\n",
       "0          210010  West Eifel Volcanic Field  Germany              Maar(s)   \n",
       "1          210020            Chaine des Puys   France         Lava dome(s)   \n",
       "2          210030        Olot Volcanic Field    Spain     Pyroclastic cone   \n",
       "3          210040   Calatrava Volcanic Field    Spain     Pyroclastic cone   \n",
       "4          211001                 Larderello    Italy  Explosion crater(s)   \n",
       "\n",
       "   Activity Evidence Last Known Eruption                          Region  \\\n",
       "0     Eruption Dated            8300 BCE  Mediterranean and Western Asia   \n",
       "1     Eruption Dated            4040 BCE  Mediterranean and Western Asia   \n",
       "2  Evidence Credible             Unknown  Mediterranean and Western Asia   \n",
       "3     Eruption Dated            3600 BCE  Mediterranean and Western Asia   \n",
       "4  Eruption Observed             1282 CE  Mediterranean and Western Asia   \n",
       "\n",
       "        Subregion  Latitude  Longitude  Elevation (m)  \\\n",
       "0  Western Europe    50.170       6.85            600   \n",
       "1  Western Europe    45.775       2.97           1464   \n",
       "2  Western Europe    42.170       2.53            893   \n",
       "3  Western Europe    38.870      -4.02           1117   \n",
       "4           Italy    43.250      10.87            500   \n",
       "\n",
       "                 Dominant Rock Type  \\\n",
       "0                           Foidite   \n",
       "1             Basalt / Picro-Basalt   \n",
       "2  Trachybasalt / Tephrite Basanite   \n",
       "3             Basalt / Picro-Basalt   \n",
       "4                 No Data (checked)   \n",
       "\n",
       "                               Tectonic Setting  \n",
       "0        Rift zone / Continental crust (>25 km)  \n",
       "1        Rift zone / Continental crust (>25 km)  \n",
       "2       Intraplate / Continental crust (>25 km)  \n",
       "3       Intraplate / Continental crust (>25 km)  \n",
       "4  Subduction zone / Continental crust (>25 km)  "
      ]
     },
     "execution_count": 13,
     "metadata": {},
     "output_type": "execute_result"
    }
   ],
   "source": [
    "# Substituindo o valor de 'StratStratovolcano(es)' para 'Stratovolcano'\n",
    "df.loc[df['Primary Volcano Type'] == 'Stratovolcano(es)', 'Primary Volcano Type'] = 'Stratovolcano'\n",
    "df.loc[df['Primary Volcano Type'] == 'Pyroclastic cone(s)', 'Primary Volcano Type'] = 'Pyroclastic cone'\n",
    "\n",
    "df.head()"
   ]
  },
  {
   "cell_type": "markdown",
   "metadata": {},
   "source": [
    "## Checando as mudanças:\n",
    "\n",
    "Vamos agora refazer o teste de células nulas"
   ]
  },
  {
   "cell_type": "code",
   "execution_count": 14,
   "metadata": {},
   "outputs": [
    {
     "data": {
      "text/plain": [
       "Volcano Number          0\n",
       "Volcano Name            0\n",
       "Country                 0\n",
       "Primary Volcano Type    0\n",
       "Activity Evidence       0\n",
       "Last Known Eruption     0\n",
       "Region                  0\n",
       "Subregion               0\n",
       "Latitude                0\n",
       "Longitude               0\n",
       "Elevation (m)           0\n",
       "Dominant Rock Type      0\n",
       "Tectonic Setting        0\n",
       "dtype: int64"
      ]
     },
     "execution_count": 14,
     "metadata": {},
     "output_type": "execute_result"
    }
   ],
   "source": [
    "df.isnull().sum()"
   ]
  },
  {
   "cell_type": "markdown",
   "metadata": {},
   "source": [
    "## Resumo limpeza de dados:\n",
    "\n",
    "Verficamos que duas colunas possuiam dados nulos, elas eram:\n",
    "\n",
    "- Dominant Rock Type\n",
    "- Tectonic Setting\n",
    "\n",
    "Utilizamos o metodo dropna para eliminar as mesmas, e agora podemos seguir com nosso dataset pronto para utilização\n",
    "\n",
    "Já nos tipos de vulcões foi evidenciado que algus vinham em plural, e para deixar a análise mais precisa foi decidido juntar o plural e o singular, nestes casos:\n",
    "\n",
    "- 'Stratovolcano(es)' para 'Stratovolcano'\n",
    "- 'Pyroclastic cone(s)' para 'Pyroclastic cone'\n",
    "\n",
    "# Análise:\n",
    "\n",
    "Como visto não há mais celulas nulas, podemos prosseguir a próxima etapa\n",
    "\n",
    "## Iniciando a responder as perguntas\n",
    "\n",
    "Agora vamos responder as perguntas destinadas a esta análise\n",
    "\n",
    "### 1 - Quais os 5 países com mais vulcões?"
   ]
  },
  {
   "cell_type": "code",
   "execution_count": 15,
   "metadata": {},
   "outputs": [
    {
     "data": {
      "text/plain": [
       "Country\n",
       "United States    167\n",
       "Russia           144\n",
       "Indonesia        127\n",
       "Japan            105\n",
       "Chile             73\n",
       "Name: Volcano Number, dtype: int64"
      ]
     },
     "execution_count": 15,
     "metadata": {},
     "output_type": "execute_result"
    }
   ],
   "source": [
    "'''\n",
    "    Vamos separar em partes o que fizemos aqui\n",
    "    \n",
    "    1 - Com o método groupby agrupamos o dataset pelo país\n",
    "    2 - Com isso escolhemos a coluna 'Volcano Number' para usar o count e ver quantos elementos estão presentes em cada país,\n",
    "        ou seja, quantos vulcões existem\n",
    "    3 - Com o total em mãos utilizamos o método sort_values com a ordenação descendente para mostrar os países com mais \n",
    "        ocorrências\n",
    "    4 - Por fim o método head com limite de 5, para mostrar os 5 países com mais vulcões e chegar na nossa resposta\n",
    "''' \n",
    "topCountries = df.groupby(['Country'])['Volcano Number'].count().sort_values(ascending=False).head(5)\n",
    "\n",
    "topCountries"
   ]
  },
  {
   "cell_type": "markdown",
   "metadata": {},
   "source": [
    "![title](img/volcano3.jpg)\n",
    "\n",
    "## Ajuste de dados:\n",
    "\n",
    "Bom, já temos a resposta, porém para apresentar a mesma de uma forma mais legível vou fazer \n",
    "algumas modificações abaixo"
   ]
  },
  {
   "cell_type": "code",
   "execution_count": 16,
   "metadata": {},
   "outputs": [
    {
     "data": {
      "text/html": [
       "<div>\n",
       "<style scoped>\n",
       "    .dataframe tbody tr th:only-of-type {\n",
       "        vertical-align: middle;\n",
       "    }\n",
       "\n",
       "    .dataframe tbody tr th {\n",
       "        vertical-align: top;\n",
       "    }\n",
       "\n",
       "    .dataframe thead th {\n",
       "        text-align: right;\n",
       "    }\n",
       "</style>\n",
       "<table border=\"1\" class=\"dataframe\">\n",
       "  <thead>\n",
       "    <tr style=\"text-align: right;\">\n",
       "      <th></th>\n",
       "      <th>Country</th>\n",
       "      <th>Volcanoes Count</th>\n",
       "    </tr>\n",
       "  </thead>\n",
       "  <tbody>\n",
       "    <tr>\n",
       "      <th>0</th>\n",
       "      <td>United States</td>\n",
       "      <td>167</td>\n",
       "    </tr>\n",
       "    <tr>\n",
       "      <th>1</th>\n",
       "      <td>Russia</td>\n",
       "      <td>144</td>\n",
       "    </tr>\n",
       "    <tr>\n",
       "      <th>2</th>\n",
       "      <td>Indonesia</td>\n",
       "      <td>127</td>\n",
       "    </tr>\n",
       "    <tr>\n",
       "      <th>3</th>\n",
       "      <td>Japan</td>\n",
       "      <td>105</td>\n",
       "    </tr>\n",
       "    <tr>\n",
       "      <th>4</th>\n",
       "      <td>Chile</td>\n",
       "      <td>73</td>\n",
       "    </tr>\n",
       "  </tbody>\n",
       "</table>\n",
       "</div>"
      ],
      "text/plain": [
       "         Country  Volcanoes Count\n",
       "0  United States              167\n",
       "1         Russia              144\n",
       "2      Indonesia              127\n",
       "3          Japan              105\n",
       "4          Chile               73"
      ]
     },
     "execution_count": 16,
     "metadata": {},
     "output_type": "execute_result"
    }
   ],
   "source": [
    "# Primeiramente transformar a Series que temos em um DataFrame\n",
    "dfCountries = topCountries.to_frame().reset_index()\n",
    "\n",
    "# Agora vamos renomear a coluna para fazer mais sentido\n",
    "dfCountries = dfCountries.rename(columns={'Volcano Number': 'Volcanoes Count'})\n",
    "\n",
    "# Aqui está o nosso Dataset de contagem de vulcões, mais organizado e fácil de trabalhar\n",
    "dfCountries"
   ]
  },
  {
   "cell_type": "code",
   "execution_count": 17,
   "metadata": {},
   "outputs": [
    {
     "name": "stdout",
     "output_type": "stream",
     "text": [
      "Os 5 países com mais vulcões são United States, Russia, Indonesia, Japan e Chile respectivamente\n"
     ]
    }
   ],
   "source": [
    "# Vamos agora responder a pergunta\n",
    "country = dfCountries['Country']\n",
    "count   = dfCountries['Volcanoes Count']\n",
    "\n",
    "# Adicionando um print mostrando quais são os 5 países com mais vulcões, em ordem\n",
    "print(\n",
    "      \"Os 5 países com mais vulcões são {}, {}, {}, {} e {} respectivamente\"\n",
    "      .format(country[0],country[1],country[2],country[3],country[4])\n",
    "     )"
   ]
  },
  {
   "cell_type": "markdown",
   "metadata": {},
   "source": [
    "## Representação gráfica 1ª pergunta:\n",
    "\n",
    "Vamos representar por meio de gráfico os 5 países e mostrando a contagem de vulcões\n",
    "\n",
    "obs: É uma parte opicional, porém para pessoas leigas em programação torna a visualização de dados agrádavel e também interessante"
   ]
  },
  {
   "cell_type": "code",
   "execution_count": 18,
   "metadata": {},
   "outputs": [
    {
     "data": {
      "text/plain": [
       "([<matplotlib.patches.Wedge at 0x213fce30a58>,\n",
       "  <matplotlib.patches.Wedge at 0x213fce3e400>,\n",
       "  <matplotlib.patches.Wedge at 0x213fce3ee48>,\n",
       "  <matplotlib.patches.Wedge at 0x213fce498d0>,\n",
       "  <matplotlib.patches.Wedge at 0x213fce53358>],\n",
       " [Text(0.790448,0.90288,'United States'),\n",
       "  Text(-0.838629,0.71183,'Russia'),\n",
       "  Text(-0.856506,-0.690216,'Indonesia'),\n",
       "  Text(0.315284,-1.05385,'Japan'),\n",
       "  Text(1.02464,-0.400134,'Chile')],\n",
       " [Text(0.461095,0.52668,'27%  (167)'),\n",
       "  Text(-0.457434,0.388271,'23%  (144)'),\n",
       "  Text(-0.467185,-0.376481,'21%  (127)'),\n",
       "  Text(0.171973,-0.574826,'17%  (105)'),\n",
       "  Text(0.558896,-0.218255,'12%  (73)')])"
      ]
     },
     "execution_count": 18,
     "metadata": {},
     "output_type": "execute_result"
    },
    {
     "data": {
      "image/png": "[encoded data removed]",
      "text/plain": [
       "<matplotlib.figure.Figure at 0x213fcd9f940>"
      ]
     },
     "metadata": {},
     "output_type": "display_data"
    }
   ],
   "source": [
    "# Imprimindo o gráfico com o matplotlib\n",
    "\n",
    "# Primeiramente vamos setar as labels e os valores\n",
    "labels = dfCountries['Country']\n",
    "values = dfCountries['Volcanoes Count']\n",
    "\n",
    "# Vamos dar uma pequena enfase na fatia mais populada\n",
    "explode = (0.1, 0, 0, 0, 0)\n",
    "\n",
    "plt.pie(values, explode=explode, labels=labels, autopct=make_autopct(values), colors=colors, shadow=True)"
   ]
  },
  {
   "cell_type": "markdown",
   "metadata": {},
   "source": [
    "## 2 - Qual a região com mais vulcões e a que tem menos?\n",
    "\n",
    "Vamos agora para a segunda pergunta, qual a região com mais e a com menos vulcões\n",
    "\n",
    "Para isso vamos agrupar o dataset por regiões"
   ]
  },
  {
   "cell_type": "code",
   "execution_count": 19,
   "metadata": {},
   "outputs": [
    {
     "name": "stdout",
     "output_type": "stream",
     "text": [
      "A região que possui mais vulcões é South America, com 189, já a que tem menos é a West Indies, com 16.\n"
     ]
    }
   ],
   "source": [
    "# Agrupando dataset por region\n",
    "dfRegion = df.groupby(['Region'])['Volcano Number'].count()\n",
    "\n",
    "# Transformando a Series em DataFrame\n",
    "dfRegion = dfRegion.to_frame().reset_index()\n",
    "\n",
    "# Renomeando coluna\n",
    "dfRegion.rename(columns={'Volcano Number': 'Count'}, inplace=True)\n",
    "\n",
    "# Primeiramente usamos o metodo loc para localizar o que queremos, entao com idxmax procuramos a linha com mais ocorrências\n",
    "maisVulcoes  = dfRegion.loc[dfRegion['Count'].idxmax()]\n",
    "\n",
    "# Agora a mesma coisa só que com idxmin para a região com menor número\n",
    "menosVulcoes = dfRegion.loc[dfRegion['Count'].idxmin()]\n",
    "\n",
    "# Agora vamos mostrar o resultado\n",
    "print(\"A região que possui mais vulcões é {}, com {}, já a que tem menos é a {}, com {}.\"\n",
    "      .format(\n",
    "          maisVulcoes['Region'],\n",
    "          maisVulcoes['Count'],\n",
    "          menosVulcoes['Region'],\n",
    "          menosVulcoes['Count']\n",
    "      )\n",
    "     )"
   ]
  },
  {
   "cell_type": "markdown",
   "metadata": {},
   "source": [
    "## Representação gráfica 2ª pergunta:\n",
    "\n",
    "Certo, até agora descobrimos que a região com mais vulcões é a América do Sul e a com menos são as Índias Ocidentais,\n",
    "\n",
    "Vamos agora reproduzir de forma gráfica, para verificar também as demais regiões"
   ]
  },
  {
   "cell_type": "code",
   "execution_count": 20,
   "metadata": {},
   "outputs": [
    {
     "data": {
      "image/png": "[encoded data removed]",
      "text/plain": [
       "<matplotlib.figure.Figure at 0x213fce098d0>"
      ]
     },
     "metadata": {},
     "output_type": "display_data"
    }
   ],
   "source": [
    "dfRegion.sort_values('Count', inplace=True)\n",
    "\n",
    "ax = dfRegion.plot(dfRegion['Region'], kind='barh', color=[colors], figsize=(10,10))\n",
    "\n",
    "for p in ax.patches:\n",
    "    b=p.get_bbox()\n",
    "    ax.annotate(\"{:.0f}\".format(b.x1 + b.x0), (p.get_x() + p.get_width() + 1, p.get_y() - 0.05))\n",
    "\n",
    "plt.title('Quantidade de vulcões por região \\n\\n Total: ' + str(sum(dfRegion['Count'])) + ' vulcões \\n')\n",
    "plt.ylabel('Região')\n",
    "plt.xlabel('Contagem de Vulcões')\n",
    "plt.show()\n"
   ]
  },
  {
   "cell_type": "markdown",
   "metadata": {},
   "source": [
    "## 3 - Qual o tipo de vulcão que aparece mais vezes?"
   ]
  },
  {
   "cell_type": "code",
   "execution_count": 21,
   "metadata": {},
   "outputs": [
    {
     "name": "stdout",
     "output_type": "stream",
     "text": [
      "O tipo de vulcão mais comum no nosso conjunto de dados é o Stratovolcano, com 686 cadastrados.\n"
     ]
    }
   ],
   "source": [
    "dfType = df.groupby(['Primary Volcano Type'])['Volcano Number'].count().to_frame().reset_index()\n",
    "\n",
    "dfType = dfType.rename(columns={'Volcano Number': 'Volcanoes Count'})\n",
    "\n",
    "dfType = dfType.sort_values('Volcanoes Count', ascending=False).reset_index(drop=True)\n",
    "\n",
    "volcanoType      = dfType['Primary Volcano Type'][0]\n",
    "volcanoTypeCount = dfType['Volcanoes Count'][0]\n",
    "\n",
    "print('O tipo de vulcão mais comum no nosso conjunto de dados é o {}, com {} cadastrados.'.format(volcanoType,volcanoTypeCount))"
   ]
  },
  {
   "cell_type": "markdown",
   "metadata": {},
   "source": [
    "## Representação da 3ª pergunta:\n",
    "\n",
    "Vamos agora nos preocupar com os tipos que tem mais de 50 vulcões, assim conseguiremos nos concentrar nos principais, \n",
    "\n",
    "Que segundo as prévias pesquisas que fiz de vulcões são apenas 3, então com esse tipo de consulta já vamos conseguir incluir os principais e alguns subsequentes."
   ]
  },
  {
   "cell_type": "code",
   "execution_count": 22,
   "metadata": {},
   "outputs": [
    {
     "data": {
      "image/png": "[encoded data removed]",
      "text/plain": [
       "<matplotlib.figure.Figure at 0x213fcf230f0>"
      ]
     },
     "metadata": {},
     "output_type": "display_data"
    }
   ],
   "source": [
    "# Tirando do dataset os tipos com menos de 50\n",
    "dfType = dfType.loc[dfType['Volcanoes Count'] > 50]\n",
    "\n",
    "# Criando o gráfico pela contagem de vulcões, tipo barra\n",
    "ax = dfType['Volcanoes Count'].plot(kind='bar', figsize=(15,5), color=colors)\n",
    "\n",
    "# Setando as labels dos países\n",
    "ax.set_xticklabels(dfType['Primary Volcano Type'], rotation='horizontal')\n",
    "# Setando a label de Y\n",
    "ax.set_ylabel('Número de vulcões')\n",
    "# Setando a label de X\n",
    "ax.set_xlabel('\\n Tipos dos Vulcões')\n",
    "# Setando o título do gráfico\n",
    "ax.set_title('Principais tipos de vulcões \\n')\n",
    "\n",
    "plt.show()"
   ]
  },
  {
   "cell_type": "markdown",
   "metadata": {},
   "source": [
    "## 4 - Quais 3 os tipos de rochas mais predominantes?\n",
    "\n",
    "Veremos agora quais os tipos de rocha que encontramos em maior quantidade no nosso conjunto de dados."
   ]
  },
  {
   "cell_type": "code",
   "execution_count": 23,
   "metadata": {},
   "outputs": [
    {
     "name": "stdout",
     "output_type": "stream",
     "text": [
      "Os três tipo de rocha mais dominantes são: Andesite / Basaltic Andesite, Basalt / Picro-Basalt e Dacite\n"
     ]
    }
   ],
   "source": [
    "dfRockType = df.groupby(['Dominant Rock Type'])['Volcano Number'].count().to_frame().reset_index()\n",
    "\n",
    "dfRockType = dfRockType.rename(columns={'Volcano Number': 'Volcanoes Count'})\n",
    "\n",
    "dfRockType = dfRockType.sort_values('Volcanoes Count', ascending=False).reset_index(drop=True)\n",
    "\n",
    "rockType = dfRockType['Dominant Rock Type']\n",
    "\n",
    "print('Os três tipo de rocha mais dominantes são: {}, {} e {}'.format(rockType[0], rockType[1], rockType[2]))"
   ]
  },
  {
   "cell_type": "code",
   "execution_count": 24,
   "metadata": {
    "scrolled": false
   },
   "outputs": [
    {
     "data": {
      "image/png": "[encoded data removed]",
      "text/plain": [
       "<matplotlib.figure.Figure at 0x213fceb1dd8>"
      ]
     },
     "metadata": {},
     "output_type": "display_data"
    }
   ],
   "source": [
    "# Criando o gráfico pela contagem de tipos de rocha, tipo barra\n",
    "ax = dfRockType['Volcanoes Count'].plot(kind='bar', figsize=(15,5), color=colors)\n",
    "\n",
    "# Setando as labels dos países\n",
    "ax.set_xticklabels(dfRockType['Dominant Rock Type'], rotation=45)\n",
    "# Setando a label de Y\n",
    "ax.set_ylabel('Número de ocorrências')\n",
    "# Setando a label de X\n",
    "ax.set_xlabel('\\n Tipos dos Rocha')\n",
    "# Setando o título do gráfico\n",
    "ax.set_title('Principais tipos de rocha \\n')\n",
    "\n",
    "plt.show()"
   ]
  },
  {
   "cell_type": "markdown",
   "metadata": {},
   "source": [
    "## 5 - Quais os vulcões mais altos?\n",
    "\n",
    "Vamos verificar quais os vulcões mais altos em elevação, ou seja a altura em metros em relação ao nível do mar\n",
    "\n",
    "Observe que há alguns vulcões abaixo do nível do mar que serão desconsiderados"
   ]
  },
  {
   "cell_type": "code",
   "execution_count": 25,
   "metadata": {
    "scrolled": false
   },
   "outputs": [
    {
     "data": {
      "text/html": [
       "<div>\n",
       "<style scoped>\n",
       "    .dataframe tbody tr th:only-of-type {\n",
       "        vertical-align: middle;\n",
       "    }\n",
       "\n",
       "    .dataframe tbody tr th {\n",
       "        vertical-align: top;\n",
       "    }\n",
       "\n",
       "    .dataframe thead th {\n",
       "        text-align: right;\n",
       "    }\n",
       "</style>\n",
       "<table border=\"1\" class=\"dataframe\">\n",
       "  <thead>\n",
       "    <tr style=\"text-align: right;\">\n",
       "      <th></th>\n",
       "      <th>Volcano Number</th>\n",
       "      <th>Volcano Name</th>\n",
       "      <th>Country</th>\n",
       "      <th>Primary Volcano Type</th>\n",
       "      <th>Activity Evidence</th>\n",
       "      <th>Last Known Eruption</th>\n",
       "      <th>Region</th>\n",
       "      <th>Subregion</th>\n",
       "      <th>Latitude</th>\n",
       "      <th>Longitude</th>\n",
       "      <th>Elevation (m)</th>\n",
       "      <th>Dominant Rock Type</th>\n",
       "      <th>Tectonic Setting</th>\n",
       "    </tr>\n",
       "  </thead>\n",
       "  <tbody>\n",
       "    <tr>\n",
       "      <th>1243</th>\n",
       "      <td>355130</td>\n",
       "      <td>Ojos del Salado, Nevados</td>\n",
       "      <td>Chile-Argentina</td>\n",
       "      <td>Stratovolcano</td>\n",
       "      <td>Eruption Dated</td>\n",
       "      <td>750 CE</td>\n",
       "      <td>South America</td>\n",
       "      <td>Northern Chile, Bolivia and Argentina</td>\n",
       "      <td>-27.109</td>\n",
       "      <td>-68.541</td>\n",
       "      <td>6879</td>\n",
       "      <td>Dacite</td>\n",
       "      <td>Subduction zone / Continental crust (&gt;25 km)</td>\n",
       "    </tr>\n",
       "    <tr>\n",
       "      <th>1235</th>\n",
       "      <td>355110</td>\n",
       "      <td>Llullaillaco</td>\n",
       "      <td>Chile-Argentina</td>\n",
       "      <td>Stratovolcano</td>\n",
       "      <td>Eruption Observed</td>\n",
       "      <td>1877 CE</td>\n",
       "      <td>South America</td>\n",
       "      <td>Northern Chile, Bolivia and Argentina</td>\n",
       "      <td>-24.720</td>\n",
       "      <td>-68.530</td>\n",
       "      <td>6739</td>\n",
       "      <td>Dacite</td>\n",
       "      <td>Subduction zone / Continental crust (&gt;25 km)</td>\n",
       "    </tr>\n",
       "    <tr>\n",
       "      <th>1252</th>\n",
       "      <td>355220</td>\n",
       "      <td>Tipas</td>\n",
       "      <td>Argentina</td>\n",
       "      <td>Complex</td>\n",
       "      <td>Evidence Credible</td>\n",
       "      <td>Unknown</td>\n",
       "      <td>South America</td>\n",
       "      <td>Northern Chile, Bolivia and Argentina</td>\n",
       "      <td>-27.196</td>\n",
       "      <td>-68.561</td>\n",
       "      <td>6658</td>\n",
       "      <td>No Data (checked)</td>\n",
       "      <td>Subduction zone / Continental crust (&gt;25 km)</td>\n",
       "    </tr>\n",
       "    <tr>\n",
       "      <th>1242</th>\n",
       "      <td>355125</td>\n",
       "      <td>Incahuasi, Nevado de</td>\n",
       "      <td>Chile-Argentina</td>\n",
       "      <td>Stratovolcano</td>\n",
       "      <td>Evidence Uncertain</td>\n",
       "      <td>Unknown</td>\n",
       "      <td>South America</td>\n",
       "      <td>Northern Chile, Bolivia and Argentina</td>\n",
       "      <td>-27.033</td>\n",
       "      <td>-68.296</td>\n",
       "      <td>6638</td>\n",
       "      <td>Dacite</td>\n",
       "      <td>Subduction zone / Continental crust (&gt;25 km)</td>\n",
       "    </tr>\n",
       "    <tr>\n",
       "      <th>1189</th>\n",
       "      <td>354003</td>\n",
       "      <td>Coropuna</td>\n",
       "      <td>Peru</td>\n",
       "      <td>Stratovolcano</td>\n",
       "      <td>Evidence Credible</td>\n",
       "      <td>Unknown</td>\n",
       "      <td>South America</td>\n",
       "      <td>Peru</td>\n",
       "      <td>-15.520</td>\n",
       "      <td>-72.650</td>\n",
       "      <td>6377</td>\n",
       "      <td>Andesite / Basaltic Andesite</td>\n",
       "      <td>Subduction zone / Continental crust (&gt;25 km)</td>\n",
       "    </tr>\n",
       "  </tbody>\n",
       "</table>\n",
       "</div>"
      ],
      "text/plain": [
       "      Volcano Number              Volcano Name          Country  \\\n",
       "1243          355130  Ojos del Salado, Nevados  Chile-Argentina   \n",
       "1235          355110              Llullaillaco  Chile-Argentina   \n",
       "1252          355220                     Tipas        Argentina   \n",
       "1242          355125      Incahuasi, Nevado de  Chile-Argentina   \n",
       "1189          354003                  Coropuna             Peru   \n",
       "\n",
       "     Primary Volcano Type   Activity Evidence Last Known Eruption  \\\n",
       "1243        Stratovolcano      Eruption Dated              750 CE   \n",
       "1235        Stratovolcano   Eruption Observed             1877 CE   \n",
       "1252              Complex   Evidence Credible             Unknown   \n",
       "1242        Stratovolcano  Evidence Uncertain             Unknown   \n",
       "1189        Stratovolcano   Evidence Credible             Unknown   \n",
       "\n",
       "             Region                              Subregion  Latitude  \\\n",
       "1243  South America  Northern Chile, Bolivia and Argentina   -27.109   \n",
       "1235  South America  Northern Chile, Bolivia and Argentina   -24.720   \n",
       "1252  South America  Northern Chile, Bolivia and Argentina   -27.196   \n",
       "1242  South America  Northern Chile, Bolivia and Argentina   -27.033   \n",
       "1189  South America                                   Peru   -15.520   \n",
       "\n",
       "      Longitude  Elevation (m)            Dominant Rock Type  \\\n",
       "1243    -68.541           6879                        Dacite   \n",
       "1235    -68.530           6739                        Dacite   \n",
       "1252    -68.561           6658             No Data (checked)   \n",
       "1242    -68.296           6638                        Dacite   \n",
       "1189    -72.650           6377  Andesite / Basaltic Andesite   \n",
       "\n",
       "                                  Tectonic Setting  \n",
       "1243  Subduction zone / Continental crust (>25 km)  \n",
       "1235  Subduction zone / Continental crust (>25 km)  \n",
       "1252  Subduction zone / Continental crust (>25 km)  \n",
       "1242  Subduction zone / Continental crust (>25 km)  \n",
       "1189  Subduction zone / Continental crust (>25 km)  "
      ]
     },
     "execution_count": 25,
     "metadata": {},
     "output_type": "execute_result"
    }
   ],
   "source": [
    "'''\n",
    "    Vamos ordernar os valores pela elevação, e com o parâmetro ascending = False temos a ordem descendente,\n",
    "    com head pegamos apenas as 5 primeiras linhas dos resultados, que já satisfaz a resposta\n",
    "'''\n",
    "vulcanheight = df.sort_values('Elevation (m)', ascending=False).head()\n",
    "\n",
    "vulcanheight"
   ]
  },
  {
   "cell_type": "markdown",
   "metadata": {},
   "source": [
    "## Análise sobre os maiores vulcões\n",
    "\n",
    "Podemos observar que os maiores vulcões se encontram na América do Sul, que também é a região onde há mais vulcões\n",
    "\n",
    "Além disso, pelo menos os 5 maiores, se encontram nas regiões do Chile e da Argentina\n",
    "\n",
    "E o tipo de vulcão predominante é Stratovolcano (estratovulcão)"
   ]
  },
  {
   "cell_type": "code",
   "execution_count": 26,
   "metadata": {},
   "outputs": [
    {
     "data": {
      "image/png": "[encoded data removed]",
      "text/plain": [
       "<matplotlib.figure.Figure at 0x213fd03b3c8>"
      ]
     },
     "metadata": {},
     "output_type": "display_data"
    }
   ],
   "source": [
    "# Criando o gráfico de altura\n",
    "ax = vulcanheight['Elevation (m)'].plot(kind='bar', figsize=(15,5), color=colors)\n",
    "\n",
    "# Setando as labels dos países\n",
    "ax.set_xticklabels(vulcanheight['Volcano Name'], rotation=0)\n",
    "# Setando a label de Y\n",
    "ax.set_ylabel('Elevação em metros')\n",
    "# Setando a label de X\n",
    "ax.set_xlabel('\\n Nome dos vulcões')\n",
    "# Setando o título do gráfico\n",
    "ax.set_title('Vulcões mais altos em relação ao nível do mar \\n')\n",
    "\n",
    "plt.show()"
   ]
  },
  {
   "cell_type": "markdown",
   "metadata": {},
   "source": [
    "## Sobre estes vulcões:\n",
    "\n",
    "As alturas deles são bem parecidas, todos tem uma elevação maior que 6500m"
   ]
  },
  {
   "cell_type": "markdown",
   "metadata": {},
   "source": [
    "## 6 - Há influência da elevação?"
   ]
  },
  {
   "cell_type": "code",
   "execution_count": 27,
   "metadata": {},
   "outputs": [
    {
     "ename": "TypeError",
     "evalue": "Empty 'DataFrame': no numeric data to plot",
     "output_type": "error",
     "traceback": [
      "\u001b[1;31m---------------------------------------------------------------------------\u001b[0m",
      "\u001b[1;31mTypeError\u001b[0m                                 Traceback (most recent call last)",
      "\u001b[1;32m<ipython-input-27-aab14b26d0ba>\u001b[0m in \u001b[0;36m<module>\u001b[1;34m()\u001b[0m\n\u001b[0;32m      1\u001b[0m \u001b[1;31m# Criando o gráfico de altura\u001b[0m\u001b[1;33m\u001b[0m\u001b[1;33m\u001b[0m\u001b[0m\n\u001b[1;32m----> 2\u001b[1;33m \u001b[0max\u001b[0m \u001b[1;33m=\u001b[0m \u001b[0mvulcanheight\u001b[0m\u001b[1;33m[\u001b[0m\u001b[1;34m'Country'\u001b[0m\u001b[1;33m]\u001b[0m\u001b[1;33m.\u001b[0m\u001b[0mplot\u001b[0m\u001b[1;33m(\u001b[0m\u001b[0mkind\u001b[0m\u001b[1;33m=\u001b[0m\u001b[1;34m'bar'\u001b[0m\u001b[1;33m,\u001b[0m \u001b[0mfigsize\u001b[0m\u001b[1;33m=\u001b[0m\u001b[1;33m(\u001b[0m\u001b[1;36m15\u001b[0m\u001b[1;33m,\u001b[0m\u001b[1;36m5\u001b[0m\u001b[1;33m)\u001b[0m\u001b[1;33m,\u001b[0m \u001b[0mcolor\u001b[0m\u001b[1;33m=\u001b[0m\u001b[0mcolors\u001b[0m\u001b[1;33m)\u001b[0m\u001b[1;33m\u001b[0m\u001b[0m\n\u001b[0m\u001b[0;32m      3\u001b[0m \u001b[1;33m\u001b[0m\u001b[0m\n\u001b[0;32m      4\u001b[0m \u001b[1;31m# Setando as labels dos países\u001b[0m\u001b[1;33m\u001b[0m\u001b[1;33m\u001b[0m\u001b[0m\n\u001b[0;32m      5\u001b[0m \u001b[0max\u001b[0m\u001b[1;33m.\u001b[0m\u001b[0mset_xticklabels\u001b[0m\u001b[1;33m(\u001b[0m\u001b[0mvulcanheight\u001b[0m\u001b[1;33m[\u001b[0m\u001b[1;34m'Volcano Name'\u001b[0m\u001b[1;33m]\u001b[0m\u001b[1;33m,\u001b[0m \u001b[0mrotation\u001b[0m\u001b[1;33m=\u001b[0m\u001b[1;36m0\u001b[0m\u001b[1;33m)\u001b[0m\u001b[1;33m\u001b[0m\u001b[0m\n",
      "\u001b[1;32m~\\Anaconda3\\lib\\site-packages\\pandas\\plotting\\_core.py\u001b[0m in \u001b[0;36m__call__\u001b[1;34m(self, kind, ax, figsize, use_index, title, grid, legend, style, logx, logy, loglog, xticks, yticks, xlim, ylim, rot, fontsize, colormap, table, yerr, xerr, label, secondary_y, **kwds)\u001b[0m\n\u001b[0;32m   2501\u001b[0m                            \u001b[0mcolormap\u001b[0m\u001b[1;33m=\u001b[0m\u001b[0mcolormap\u001b[0m\u001b[1;33m,\u001b[0m \u001b[0mtable\u001b[0m\u001b[1;33m=\u001b[0m\u001b[0mtable\u001b[0m\u001b[1;33m,\u001b[0m \u001b[0myerr\u001b[0m\u001b[1;33m=\u001b[0m\u001b[0myerr\u001b[0m\u001b[1;33m,\u001b[0m\u001b[1;33m\u001b[0m\u001b[0m\n\u001b[0;32m   2502\u001b[0m                            \u001b[0mxerr\u001b[0m\u001b[1;33m=\u001b[0m\u001b[0mxerr\u001b[0m\u001b[1;33m,\u001b[0m \u001b[0mlabel\u001b[0m\u001b[1;33m=\u001b[0m\u001b[0mlabel\u001b[0m\u001b[1;33m,\u001b[0m \u001b[0msecondary_y\u001b[0m\u001b[1;33m=\u001b[0m\u001b[0msecondary_y\u001b[0m\u001b[1;33m,\u001b[0m\u001b[1;33m\u001b[0m\u001b[0m\n\u001b[1;32m-> 2503\u001b[1;33m                            **kwds)\n\u001b[0m\u001b[0;32m   2504\u001b[0m     \u001b[0m__call__\u001b[0m\u001b[1;33m.\u001b[0m\u001b[0m__doc__\u001b[0m \u001b[1;33m=\u001b[0m \u001b[0mplot_series\u001b[0m\u001b[1;33m.\u001b[0m\u001b[0m__doc__\u001b[0m\u001b[1;33m\u001b[0m\u001b[0m\n\u001b[0;32m   2505\u001b[0m \u001b[1;33m\u001b[0m\u001b[0m\n",
      "\u001b[1;32m~\\Anaconda3\\lib\\site-packages\\pandas\\plotting\\_core.py\u001b[0m in \u001b[0;36mplot_series\u001b[1;34m(data, kind, ax, figsize, use_index, title, grid, legend, style, logx, logy, loglog, xticks, yticks, xlim, ylim, rot, fontsize, colormap, table, yerr, xerr, label, secondary_y, **kwds)\u001b[0m\n\u001b[0;32m   1925\u001b[0m                  \u001b[0myerr\u001b[0m\u001b[1;33m=\u001b[0m\u001b[0myerr\u001b[0m\u001b[1;33m,\u001b[0m \u001b[0mxerr\u001b[0m\u001b[1;33m=\u001b[0m\u001b[0mxerr\u001b[0m\u001b[1;33m,\u001b[0m\u001b[1;33m\u001b[0m\u001b[0m\n\u001b[0;32m   1926\u001b[0m                  \u001b[0mlabel\u001b[0m\u001b[1;33m=\u001b[0m\u001b[0mlabel\u001b[0m\u001b[1;33m,\u001b[0m \u001b[0msecondary_y\u001b[0m\u001b[1;33m=\u001b[0m\u001b[0msecondary_y\u001b[0m\u001b[1;33m,\u001b[0m\u001b[1;33m\u001b[0m\u001b[0m\n\u001b[1;32m-> 1927\u001b[1;33m                  **kwds)\n\u001b[0m\u001b[0;32m   1928\u001b[0m \u001b[1;33m\u001b[0m\u001b[0m\n\u001b[0;32m   1929\u001b[0m \u001b[1;33m\u001b[0m\u001b[0m\n",
      "\u001b[1;32m~\\Anaconda3\\lib\\site-packages\\pandas\\plotting\\_core.py\u001b[0m in \u001b[0;36m_plot\u001b[1;34m(data, x, y, subplots, ax, kind, **kwds)\u001b[0m\n\u001b[0;32m   1727\u001b[0m         \u001b[0mplot_obj\u001b[0m \u001b[1;33m=\u001b[0m \u001b[0mklass\u001b[0m\u001b[1;33m(\u001b[0m\u001b[0mdata\u001b[0m\u001b[1;33m,\u001b[0m \u001b[0msubplots\u001b[0m\u001b[1;33m=\u001b[0m\u001b[0msubplots\u001b[0m\u001b[1;33m,\u001b[0m \u001b[0max\u001b[0m\u001b[1;33m=\u001b[0m\u001b[0max\u001b[0m\u001b[1;33m,\u001b[0m \u001b[0mkind\u001b[0m\u001b[1;33m=\u001b[0m\u001b[0mkind\u001b[0m\u001b[1;33m,\u001b[0m \u001b[1;33m**\u001b[0m\u001b[0mkwds\u001b[0m\u001b[1;33m)\u001b[0m\u001b[1;33m\u001b[0m\u001b[0m\n\u001b[0;32m   1728\u001b[0m \u001b[1;33m\u001b[0m\u001b[0m\n\u001b[1;32m-> 1729\u001b[1;33m     \u001b[0mplot_obj\u001b[0m\u001b[1;33m.\u001b[0m\u001b[0mgenerate\u001b[0m\u001b[1;33m(\u001b[0m\u001b[1;33m)\u001b[0m\u001b[1;33m\u001b[0m\u001b[0m\n\u001b[0m\u001b[0;32m   1730\u001b[0m     \u001b[0mplot_obj\u001b[0m\u001b[1;33m.\u001b[0m\u001b[0mdraw\u001b[0m\u001b[1;33m(\u001b[0m\u001b[1;33m)\u001b[0m\u001b[1;33m\u001b[0m\u001b[0m\n\u001b[0;32m   1731\u001b[0m     \u001b[1;32mreturn\u001b[0m \u001b[0mplot_obj\u001b[0m\u001b[1;33m.\u001b[0m\u001b[0mresult\u001b[0m\u001b[1;33m\u001b[0m\u001b[0m\n",
      "\u001b[1;32m~\\Anaconda3\\lib\\site-packages\\pandas\\plotting\\_core.py\u001b[0m in \u001b[0;36mgenerate\u001b[1;34m(self)\u001b[0m\n\u001b[0;32m    248\u001b[0m     \u001b[1;32mdef\u001b[0m \u001b[0mgenerate\u001b[0m\u001b[1;33m(\u001b[0m\u001b[0mself\u001b[0m\u001b[1;33m)\u001b[0m\u001b[1;33m:\u001b[0m\u001b[1;33m\u001b[0m\u001b[0m\n\u001b[0;32m    249\u001b[0m         \u001b[0mself\u001b[0m\u001b[1;33m.\u001b[0m\u001b[0m_args_adjust\u001b[0m\u001b[1;33m(\u001b[0m\u001b[1;33m)\u001b[0m\u001b[1;33m\u001b[0m\u001b[0m\n\u001b[1;32m--> 250\u001b[1;33m         \u001b[0mself\u001b[0m\u001b[1;33m.\u001b[0m\u001b[0m_compute_plot_data\u001b[0m\u001b[1;33m(\u001b[0m\u001b[1;33m)\u001b[0m\u001b[1;33m\u001b[0m\u001b[0m\n\u001b[0m\u001b[0;32m    251\u001b[0m         \u001b[0mself\u001b[0m\u001b[1;33m.\u001b[0m\u001b[0m_setup_subplots\u001b[0m\u001b[1;33m(\u001b[0m\u001b[1;33m)\u001b[0m\u001b[1;33m\u001b[0m\u001b[0m\n\u001b[0;32m    252\u001b[0m         \u001b[0mself\u001b[0m\u001b[1;33m.\u001b[0m\u001b[0m_make_plot\u001b[0m\u001b[1;33m(\u001b[0m\u001b[1;33m)\u001b[0m\u001b[1;33m\u001b[0m\u001b[0m\n",
      "\u001b[1;32m~\\Anaconda3\\lib\\site-packages\\pandas\\plotting\\_core.py\u001b[0m in \u001b[0;36m_compute_plot_data\u001b[1;34m(self)\u001b[0m\n\u001b[0;32m    363\u001b[0m         \u001b[1;32mif\u001b[0m \u001b[0mis_empty\u001b[0m\u001b[1;33m:\u001b[0m\u001b[1;33m\u001b[0m\u001b[0m\n\u001b[0;32m    364\u001b[0m             raise TypeError('Empty {0!r}: no numeric data to '\n\u001b[1;32m--> 365\u001b[1;33m                             'plot'.format(numeric_data.__class__.__name__))\n\u001b[0m\u001b[0;32m    366\u001b[0m \u001b[1;33m\u001b[0m\u001b[0m\n\u001b[0;32m    367\u001b[0m         \u001b[0mself\u001b[0m\u001b[1;33m.\u001b[0m\u001b[0mdata\u001b[0m \u001b[1;33m=\u001b[0m \u001b[0mnumeric_data\u001b[0m\u001b[1;33m\u001b[0m\u001b[0m\n",
      "\u001b[1;31mTypeError\u001b[0m: Empty 'DataFrame': no numeric data to plot"
     ]
    }
   ],
   "source": [
    "# Criando o gráfico de altura\n",
    "ax = vulcanheight['Country'].plot(kind='bar', figsize=(15,5), color=colors)\n",
    "\n",
    "# Setando as labels dos países\n",
    "ax.set_xticklabels(vulcanheight['Volcano Name'], rotation=0)\n",
    "# Setando a label de Y\n",
    "ax.set_ylabel('Elevação em metros')\n",
    "# Setando a label de X\n",
    "ax.set_xlabel('\\n Nome dos vulcões')\n",
    "# Setando o título do gráfico\n",
    "ax.set_title('Vulcões mais altos em relação ao nível do mar \\n')\n",
    "\n",
    "plt.show()"
   ]
  }
 ],
 "metadata": {
  "kernelspec": {
   "display_name": "Python 3",
   "language": "python",
   "name": "python3"
  },
  "language_info": {
   "codemirror_mode": {
    "name": "ipython",
    "version": 3
   },
   "file_extension": ".py",
   "mimetype": "text/x-python",
   "name": "python",
   "nbconvert_exporter": "python",
   "pygments_lexer": "ipython3",
   "version": "3.6.4"
  }
 },
 "nbformat": 4,
 "nbformat_minor": 2
}
