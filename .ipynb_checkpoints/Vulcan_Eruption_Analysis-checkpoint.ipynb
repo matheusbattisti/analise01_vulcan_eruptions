{
 "cells": [
  {
   "cell_type": "markdown",
   "metadata": {},
   "source": [
    "## Análise 01: Volcano Eruptions\n",
    "\n",
    "Uma emocionante análise de erupções de vulcões.\n",
    "\n",
    "Esta análise tem intuito de desvendar algumas curiosidades sobre estes vulcões que provavelmente entraram em erupção,\n",
    "\n",
    "porém a análise principal é sobre os 3  tipos principais de vulcão, que características são mais determinantes de cada um,\n",
    "\n",
    "detalhe que os 3 tipos mais frequentes são: vulcão-escudo, cones de escória, estratovulcões, porém deste dataset ainda iremos descobrir. :)\n",
    "\n",
    "### Sobre o dataset:\n",
    "\n",
    "Este conjunto de dados contem aproximadamente 1400 vulcões que entraram em erupção desde o período Holoceno (aproximadamente 10.000 anos atrás).\n",
    "\n",
    "O dataset contem 13 colunas, e elas são:\n",
    "\n",
    "- Volcano Number: número cadastrado do vulcão, podemos dizer que é o id;\n",
    "- Volcano Name: nome do vulcão;\n",
    "- Country: país onde o vulcão está;\n",
    "- Primary Volcano Type: tipo primário do vulcão, os 3 tipos mais comun são vulcão-escudo, cones de escória, estratovulcões. Saiba mais sobre eles aqui. (obs: não sabia que vulcões eram tão legais)\n",
    "- Activity Evidence: evidências que o vulcão esteve em atividade;\n",
    "- Last Know Eruption: ano da última erupção que se tem conhecimento, detalhe que CE significa Common Era, o ano 1 em CE é o mesmo que o ano 1 em DC (Depois de Cristo), e BCE (Before Common Era)  corresponde ao AC (Antes de Cristo);\n",
    "- Region: região onde o vulcão se encontra;\n",
    "- Subregion: sub-região onde o vulcão se encontra;\n",
    "- Latitude: latitude do vulcão;\n",
    "- Longitude: longitude do vulcão;\n",
    "- Elevation (m): elevação em metros do vulcão;\n",
    "- Dominant Rock Type: tipo de rocha dominante no vulcão;\n",
    "- Tectonic Setting: cenário tectônico;\n",
    "\n",
    "## As perguntas que iremos responder são:\n",
    "\n",
    "1 - Quais os 5 países com mais vulcões?\n",
    "\n",
    "2 - Qual a região com mais vulcões?\n",
    "\n",
    "3 - Qual o tipo de vulcão que aparece mais vezes?\n",
    "\n",
    "4 - Quais os tipos de rochas mais predominantes?\n",
    "\n",
    "5 - Qual o maior e o menor vulcão?\n",
    "\n",
    "#### E por fim a análise final:\n",
    "\n",
    "Queremos saber quais fatores influenciam os vulcões a serem classificados nos 3 principais tipos\n",
    "\n",
    "6 - Quais são os 3 principais tipos de vulcão deste dataset?\n",
    "\n",
    "7 - A elevação influencia ser qual tipo de vulcão?\n",
    "\n",
    "8 - O país influencia ser qual tipo de vulcão?\n",
    "\n",
    "9 - O tipo de rocha influencia ser qual tipo de vulcão?"
   ]
  },
  {
   "cell_type": "code",
   "execution_count": 28,
   "metadata": {},
   "outputs": [
    {
     "data": {
      "text/html": [
       "<div>\n",
       "<style scoped>\n",
       "    .dataframe tbody tr th:only-of-type {\n",
       "        vertical-align: middle;\n",
       "    }\n",
       "\n",
       "    .dataframe tbody tr th {\n",
       "        vertical-align: top;\n",
       "    }\n",
       "\n",
       "    .dataframe thead th {\n",
       "        text-align: right;\n",
       "    }\n",
       "</style>\n",
       "<table border=\"1\" class=\"dataframe\">\n",
       "  <thead>\n",
       "    <tr style=\"text-align: right;\">\n",
       "      <th></th>\n",
       "      <th>Volcano Number</th>\n",
       "      <th>Volcano Name</th>\n",
       "      <th>Country</th>\n",
       "      <th>Primary Volcano Type</th>\n",
       "      <th>Activity Evidence</th>\n",
       "      <th>Last Known Eruption</th>\n",
       "      <th>Region</th>\n",
       "      <th>Subregion</th>\n",
       "      <th>Latitude</th>\n",
       "      <th>Longitude</th>\n",
       "      <th>Elevation (m)</th>\n",
       "      <th>Dominant Rock Type</th>\n",
       "      <th>Tectonic Setting</th>\n",
       "    </tr>\n",
       "  </thead>\n",
       "  <tbody>\n",
       "    <tr>\n",
       "      <th>0</th>\n",
       "      <td>210010</td>\n",
       "      <td>West Eifel Volcanic Field</td>\n",
       "      <td>Germany</td>\n",
       "      <td>Maar(s)</td>\n",
       "      <td>Eruption Dated</td>\n",
       "      <td>8300 BCE</td>\n",
       "      <td>Mediterranean and Western Asia</td>\n",
       "      <td>Western Europe</td>\n",
       "      <td>50.170</td>\n",
       "      <td>6.85</td>\n",
       "      <td>600</td>\n",
       "      <td>Foidite</td>\n",
       "      <td>Rift zone / Continental crust (&gt;25 km)</td>\n",
       "    </tr>\n",
       "    <tr>\n",
       "      <th>1</th>\n",
       "      <td>210020</td>\n",
       "      <td>Chaine des Puys</td>\n",
       "      <td>France</td>\n",
       "      <td>Lava dome(s)</td>\n",
       "      <td>Eruption Dated</td>\n",
       "      <td>4040 BCE</td>\n",
       "      <td>Mediterranean and Western Asia</td>\n",
       "      <td>Western Europe</td>\n",
       "      <td>45.775</td>\n",
       "      <td>2.97</td>\n",
       "      <td>1464</td>\n",
       "      <td>Basalt / Picro-Basalt</td>\n",
       "      <td>Rift zone / Continental crust (&gt;25 km)</td>\n",
       "    </tr>\n",
       "    <tr>\n",
       "      <th>2</th>\n",
       "      <td>210030</td>\n",
       "      <td>Olot Volcanic Field</td>\n",
       "      <td>Spain</td>\n",
       "      <td>Pyroclastic cone(s)</td>\n",
       "      <td>Evidence Credible</td>\n",
       "      <td>Unknown</td>\n",
       "      <td>Mediterranean and Western Asia</td>\n",
       "      <td>Western Europe</td>\n",
       "      <td>42.170</td>\n",
       "      <td>2.53</td>\n",
       "      <td>893</td>\n",
       "      <td>Trachybasalt / Tephrite Basanite</td>\n",
       "      <td>Intraplate / Continental crust (&gt;25 km)</td>\n",
       "    </tr>\n",
       "    <tr>\n",
       "      <th>3</th>\n",
       "      <td>210040</td>\n",
       "      <td>Calatrava Volcanic Field</td>\n",
       "      <td>Spain</td>\n",
       "      <td>Pyroclastic cone(s)</td>\n",
       "      <td>Eruption Dated</td>\n",
       "      <td>3600 BCE</td>\n",
       "      <td>Mediterranean and Western Asia</td>\n",
       "      <td>Western Europe</td>\n",
       "      <td>38.870</td>\n",
       "      <td>-4.02</td>\n",
       "      <td>1117</td>\n",
       "      <td>Basalt / Picro-Basalt</td>\n",
       "      <td>Intraplate / Continental crust (&gt;25 km)</td>\n",
       "    </tr>\n",
       "    <tr>\n",
       "      <th>4</th>\n",
       "      <td>211001</td>\n",
       "      <td>Larderello</td>\n",
       "      <td>Italy</td>\n",
       "      <td>Explosion crater(s)</td>\n",
       "      <td>Eruption Observed</td>\n",
       "      <td>1282 CE</td>\n",
       "      <td>Mediterranean and Western Asia</td>\n",
       "      <td>Italy</td>\n",
       "      <td>43.250</td>\n",
       "      <td>10.87</td>\n",
       "      <td>500</td>\n",
       "      <td>No Data (checked)</td>\n",
       "      <td>Subduction zone / Continental crust (&gt;25 km)</td>\n",
       "    </tr>\n",
       "  </tbody>\n",
       "</table>\n",
       "</div>"
      ],
      "text/plain": [
       "   Volcano Number               Volcano Name  Country Primary Volcano Type  \\\n",
       "0          210010  West Eifel Volcanic Field  Germany              Maar(s)   \n",
       "1          210020            Chaine des Puys   France         Lava dome(s)   \n",
       "2          210030        Olot Volcanic Field    Spain  Pyroclastic cone(s)   \n",
       "3          210040   Calatrava Volcanic Field    Spain  Pyroclastic cone(s)   \n",
       "4          211001                 Larderello    Italy  Explosion crater(s)   \n",
       "\n",
       "   Activity Evidence Last Known Eruption                          Region  \\\n",
       "0     Eruption Dated            8300 BCE  Mediterranean and Western Asia   \n",
       "1     Eruption Dated            4040 BCE  Mediterranean and Western Asia   \n",
       "2  Evidence Credible             Unknown  Mediterranean and Western Asia   \n",
       "3     Eruption Dated            3600 BCE  Mediterranean and Western Asia   \n",
       "4  Eruption Observed             1282 CE  Mediterranean and Western Asia   \n",
       "\n",
       "        Subregion  Latitude  Longitude  Elevation (m)  \\\n",
       "0  Western Europe    50.170       6.85            600   \n",
       "1  Western Europe    45.775       2.97           1464   \n",
       "2  Western Europe    42.170       2.53            893   \n",
       "3  Western Europe    38.870      -4.02           1117   \n",
       "4           Italy    43.250      10.87            500   \n",
       "\n",
       "                 Dominant Rock Type  \\\n",
       "0                           Foidite   \n",
       "1             Basalt / Picro-Basalt   \n",
       "2  Trachybasalt / Tephrite Basanite   \n",
       "3             Basalt / Picro-Basalt   \n",
       "4                 No Data (checked)   \n",
       "\n",
       "                               Tectonic Setting  \n",
       "0        Rift zone / Continental crust (>25 km)  \n",
       "1        Rift zone / Continental crust (>25 km)  \n",
       "2       Intraplate / Continental crust (>25 km)  \n",
       "3       Intraplate / Continental crust (>25 km)  \n",
       "4  Subduction zone / Continental crust (>25 km)  "
      ]
     },
     "execution_count": 28,
     "metadata": {},
     "output_type": "execute_result"
    }
   ],
   "source": [
    "# Importando bibliotecas\n",
    "# Vamos importar as libs que pretendemos usar ao longo do projeto\n",
    "import pandas as pd\n",
    "import math\n",
    "import matplotlib.pyplot as plt\n",
    "\n",
    "%matplotlib inline\n",
    "\n",
    "# Lendo arquivo de dados de vulcões\n",
    "df = pd.read_csv('Volcano-Eruptions.csv')\n",
    "\n",
    "# Testando se a importação ocorreu bem\n",
    "df.head()"
   ]
  },
  {
   "cell_type": "markdown",
   "metadata": {},
   "source": [
    "## Limpeza de dados\n",
    "\n",
    "Nesta etapa verificar quais colunas apresentam dados faltantes e decidir o que fazer fazer com elas\n",
    "\n",
    "Usaremos agora um método que identifica quais colunas possuem dados vazios, e quantos são:"
   ]
  },
  {
   "cell_type": "code",
   "execution_count": 29,
   "metadata": {},
   "outputs": [
    {
     "data": {
      "text/plain": [
       "Volcano Number           0\n",
       "Volcano Name             0\n",
       "Country                  0\n",
       "Primary Volcano Type     0\n",
       "Activity Evidence        0\n",
       "Last Known Eruption      0\n",
       "Region                   0\n",
       "Subregion                0\n",
       "Latitude                 0\n",
       "Longitude                0\n",
       "Elevation (m)            0\n",
       "Dominant Rock Type      14\n",
       "Tectonic Setting         5\n",
       "dtype: int64"
      ]
     },
     "execution_count": 29,
     "metadata": {},
     "output_type": "execute_result"
    }
   ],
   "source": [
    "df.isnull().sum()"
   ]
  },
  {
   "cell_type": "markdown",
   "metadata": {},
   "source": [
    "## Os dados faltantes\n",
    "\n",
    "As colunas com dados vazios são:\n",
    "\n",
    "- Dominant Rock Type\n",
    "- Tectonic Setting\n",
    "\n",
    "Vamos verificar o tipo dos dados, pois com essa informação poderemos tomar melhor nossa decisão"
   ]
  },
  {
   "cell_type": "code",
   "execution_count": 30,
   "metadata": {},
   "outputs": [
    {
     "name": "stdout",
     "output_type": "stream",
     "text": [
      "O tipo da coluna 'Dominant Rock Type' é object e o tipo de Tectonic Setting é object\n"
     ]
    }
   ],
   "source": [
    "rocktype     = df['Dominant Rock Type'].dtype\n",
    "tectonictype = df['Tectonic Setting'].dtype\n",
    "\n",
    "print(\"O tipo da coluna 'Dominant Rock Type' é {} e o tipo de Tectonic Setting é {}\".format(rocktype,tectonictype))"
   ]
  },
  {
   "cell_type": "markdown",
   "metadata": {},
   "source": [
    "## Definindo o que faremos:\n",
    "\n",
    "Aqui cabe uma importante observação, colunas com o tipo 'object' no pandas são equivalentes a strings, ou seja, texto\n",
    "\n",
    "Como strings são dados importantes, meu julgamento é que devemos remover estas linhas faltantes para não comprometer a integridade dos dados\n",
    "\n",
    "Acho errado 'inventarmos' um valor para preencher estas linhas apenas para usar o dataset completo\n",
    "\n",
    "Porém caso fosse uma coluna numérica, poderiamos até tirar a média e completar os valores faltantes com ela, mas neste caso específico minha decisão é de remover estas colunas"
   ]
  },
  {
   "cell_type": "code",
   "execution_count": 31,
   "metadata": {},
   "outputs": [],
   "source": [
    "# Removando da coluna Dominant\n",
    "df.dropna(subset=['Dominant Rock Type'], inplace=True)\n",
    "\n",
    "# Removendo da coluna Tectonic Setting\n",
    "df.dropna(subset=['Tectonic Setting'], inplace=True)"
   ]
  },
  {
   "cell_type": "markdown",
   "metadata": {},
   "source": [
    "## Checando as mudanças:\n",
    "\n",
    "Vamos agora refazer o teste de células nulas"
   ]
  },
  {
   "cell_type": "code",
   "execution_count": 32,
   "metadata": {},
   "outputs": [
    {
     "data": {
      "text/plain": [
       "Volcano Number          0\n",
       "Volcano Name            0\n",
       "Country                 0\n",
       "Primary Volcano Type    0\n",
       "Activity Evidence       0\n",
       "Last Known Eruption     0\n",
       "Region                  0\n",
       "Subregion               0\n",
       "Latitude                0\n",
       "Longitude               0\n",
       "Elevation (m)           0\n",
       "Dominant Rock Type      0\n",
       "Tectonic Setting        0\n",
       "dtype: int64"
      ]
     },
     "execution_count": 32,
     "metadata": {},
     "output_type": "execute_result"
    }
   ],
   "source": [
    "df.isnull().sum()"
   ]
  },
  {
   "cell_type": "markdown",
   "metadata": {},
   "source": [
    "## Resumo limpeza de dados:\n",
    "\n",
    "Verficamos que duas colunas possuiam dados nulos, elas eram:\n",
    "\n",
    "- Dominant Rock Type\n",
    "- Tectonic Setting\n",
    "\n",
    "Utilizamos o metodo dropna para eliminar as mesmas, e agora podemos seguir com nosso dataset pronto para utilização\n",
    "\n",
    "## Prosseguindo:\n",
    "\n",
    "Como visto não há mais celulas nulas, podemos prosseguir a próxima etapa\n",
    "\n",
    "## Iniciando a responder as perguntas\n",
    "\n",
    "Agora vamos responder as perguntas destinadas a esta análise\n",
    "\n",
    "### 1 - Quais os 5 países com mais vulcões?"
   ]
  },
  {
   "cell_type": "code",
   "execution_count": 33,
   "metadata": {},
   "outputs": [
    {
     "data": {
      "text/plain": [
       "Country\n",
       "United States    167\n",
       "Russia           144\n",
       "Indonesia        127\n",
       "Japan            105\n",
       "Chile             73\n",
       "Name: Volcano Number, dtype: int64"
      ]
     },
     "execution_count": 33,
     "metadata": {},
     "output_type": "execute_result"
    }
   ],
   "source": [
    "'''\n",
    "    Vamos separar em partes o que fizemos aqui\n",
    "    \n",
    "    1 - Com o método groupby agrupamos o dataset pelo país\n",
    "    2 - Com isso escolhemos a coluna 'Volcano Number' para usar o count e ver quantos elementos estão presentes em cada país,\n",
    "        ou seja, quantos vulcões existem\n",
    "    3 - Com o total em mãos utilizamos o método sort_values com a ordenação descendente para mostrar os países com mais \n",
    "        ocorrências\n",
    "    4 - Por fim o método head com limite de 5, para mostrar os 5 países com mais vulcões e chegar na nossa resposta\n",
    "''' \n",
    "topCountries = df.groupby(['Country'])['Volcano Number'].count().sort_values(ascending=False).head(5)\n",
    "\n",
    "topCountries"
   ]
  },
  {
   "cell_type": "markdown",
   "metadata": {},
   "source": [
    "## Ajuste de dados:\n",
    "\n",
    "Bom, já temos a resposta, porém para apresentar a mesma de uma forma mais legível vou fazer \n",
    "algumas modificações abaixo"
   ]
  },
  {
   "cell_type": "code",
   "execution_count": 35,
   "metadata": {},
   "outputs": [
    {
     "data": {
      "text/html": [
       "<div>\n",
       "<style scoped>\n",
       "    .dataframe tbody tr th:only-of-type {\n",
       "        vertical-align: middle;\n",
       "    }\n",
       "\n",
       "    .dataframe tbody tr th {\n",
       "        vertical-align: top;\n",
       "    }\n",
       "\n",
       "    .dataframe thead th {\n",
       "        text-align: right;\n",
       "    }\n",
       "</style>\n",
       "<table border=\"1\" class=\"dataframe\">\n",
       "  <thead>\n",
       "    <tr style=\"text-align: right;\">\n",
       "      <th></th>\n",
       "      <th>Country</th>\n",
       "      <th>Volcanoes Count</th>\n",
       "    </tr>\n",
       "  </thead>\n",
       "  <tbody>\n",
       "    <tr>\n",
       "      <th>0</th>\n",
       "      <td>United States</td>\n",
       "      <td>167</td>\n",
       "    </tr>\n",
       "    <tr>\n",
       "      <th>1</th>\n",
       "      <td>Russia</td>\n",
       "      <td>144</td>\n",
       "    </tr>\n",
       "    <tr>\n",
       "      <th>2</th>\n",
       "      <td>Indonesia</td>\n",
       "      <td>127</td>\n",
       "    </tr>\n",
       "    <tr>\n",
       "      <th>3</th>\n",
       "      <td>Japan</td>\n",
       "      <td>105</td>\n",
       "    </tr>\n",
       "    <tr>\n",
       "      <th>4</th>\n",
       "      <td>Chile</td>\n",
       "      <td>73</td>\n",
       "    </tr>\n",
       "  </tbody>\n",
       "</table>\n",
       "</div>"
      ],
      "text/plain": [
       "         Country  Volcanoes Count\n",
       "0  United States              167\n",
       "1         Russia              144\n",
       "2      Indonesia              127\n",
       "3          Japan              105\n",
       "4          Chile               73"
      ]
     },
     "execution_count": 35,
     "metadata": {},
     "output_type": "execute_result"
    }
   ],
   "source": [
    "# Primeiramente transformar a Series que temos em um DataFrame\n",
    "dfCountries = topCountries.to_frame().reset_index()\n",
    "\n",
    "# Agora vamos renomear a coluna para fazer mais sentido\n",
    "dfCountries = dfCountries.rename(columns={'Volcano Number': 'Volcanoes Count'})\n",
    "\n",
    "# Aqui está o nosso Dataset de contagem de vulcões, mais organizado e fácil de trabalhar\n",
    "dfCountries"
   ]
  },
  {
   "cell_type": "code",
   "execution_count": 47,
   "metadata": {},
   "outputs": [
    {
     "name": "stdout",
     "output_type": "stream",
     "text": [
      "Os 5 países com mais vulcões são United States, Russia, Indonesia, Japan e Chile respectivamente\n"
     ]
    }
   ],
   "source": [
    "# Vamos agora responder a pergunta\n",
    "country = dfCountries['Country']\n",
    "\n",
    "# Adicionando um print mostrando quais são os 5 países com mais vulcões, em ordem\n",
    "print(\n",
    "      \"Os 5 países com mais vulcões são {}, {}, {}, {} e {} respectivamente\"\n",
    "      .format(country[0],country[1],country[2],country[3],country[4])\n",
    "     )"
   ]
  },
  {
   "cell_type": "markdown",
   "metadata": {},
   "source": [
    "## Representação gráfica:\n",
    "\n",
    "Vamos representar por meio de gráfico os 5 países e mostrando a contagem de vulcões\n",
    "\n",
    "obs: É uma parte opicional, porém para pessoas leigas em programação torna a visualização de dados agrádavel e também interessante"
   ]
  }
 ],
 "metadata": {
  "kernelspec": {
   "display_name": "Python 3",
   "language": "python",
   "name": "python3"
  },
  "language_info": {
   "codemirror_mode": {
    "name": "ipython",
    "version": 3
   },
   "file_extension": ".py",
   "mimetype": "text/x-python",
   "name": "python",
   "nbconvert_exporter": "python",
   "pygments_lexer": "ipython3",
   "version": "3.6.4"
  }
 },
 "nbformat": 4,
 "nbformat_minor": 2
}
